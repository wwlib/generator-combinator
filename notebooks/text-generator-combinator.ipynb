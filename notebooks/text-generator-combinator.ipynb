{
 "cells": [
  {
   "cell_type": "markdown",
   "metadata": {},
   "source": [
    "# text-generator-combinator\n",
    "- aka *gcom*\n",
    "- a text generator combinator inspired by arcsecond\n",
    "- used to generate text samples for NLU models like those used by LUIS"
   ]
  },
  {
   "cell_type": "code",
   "execution_count": 1,
   "metadata": {
    "scrolled": true
   },
   "outputs": [
    {
     "data": {
      "text/plain": [
       "{}"
      ]
     },
     "execution_count": 1,
     "metadata": {},
     "output_type": "execute_result"
    }
   ],
   "source": [
    "G = {}"
   ]
  },
  {
   "cell_type": "code",
   "execution_count": 2,
   "metadata": {},
   "outputs": [
    {
     "data": {
      "text/plain": [
       "[Function: addGenerator]"
      ]
     },
     "execution_count": 2,
     "metadata": {},
     "output_type": "execute_result"
    }
   ],
   "source": [
    "generatorDictionary = {};\n",
    "addGenerator = function (dictionary, name, generator) {\n",
    "    dictionary[name] = generator;\n",
    "}"
   ]
  },
  {
   "cell_type": "code",
   "execution_count": 44,
   "metadata": {},
   "outputs": [
    {
     "data": {
      "text/plain": [
       "{}"
      ]
     },
     "execution_count": 44,
     "metadata": {},
     "output_type": "execute_result"
    }
   ],
   "source": [
    "generatorDictionary"
   ]
  },
  {
   "cell_type": "code",
   "execution_count": 481,
   "metadata": {},
   "outputs": [
    {
     "data": {
      "text/plain": [
       "[Function]"
      ]
     },
     "execution_count": 481,
     "metadata": {},
     "output_type": "execute_result"
    }
   ],
   "source": [
    "G.str = (str) => {\n",
    "    return {\n",
    "        run: (context) => {\n",
    "            if (typeof context !== 'undefined') {\n",
    "                console.log(`str context:`, context);\n",
    "            }\n",
    "            return str;\n",
    "        }\n",
    "    }\n",
    "}"
   ]
  },
  {
   "cell_type": "code",
   "execution_count": 482,
   "metadata": {},
   "outputs": [
    {
     "data": {
      "text/plain": [
       "{ run: [Function: run] }"
      ]
     },
     "execution_count": 482,
     "metadata": {},
     "output_type": "execute_result"
    }
   ],
   "source": [
    "testGen = G.str('hello');"
   ]
  },
  {
   "cell_type": "code",
   "execution_count": 483,
   "metadata": {},
   "outputs": [
    {
     "data": {
      "text/plain": [
       "'hello'"
      ]
     },
     "execution_count": 483,
     "metadata": {},
     "output_type": "execute_result"
    }
   ],
   "source": [
    "testGen.run()"
   ]
  },
  {
   "cell_type": "code",
   "execution_count": 484,
   "metadata": {},
   "outputs": [],
   "source": [
    "addGenerator(generatorDictionary, 'test', testGen);"
   ]
  },
  {
   "cell_type": "code",
   "execution_count": 485,
   "metadata": {},
   "outputs": [
    {
     "data": {
      "text/plain": [
       "'hello'"
      ]
     },
     "execution_count": 485,
     "metadata": {},
     "output_type": "execute_result"
    }
   ],
   "source": [
    "generatorDictionary['test'].run()"
   ]
  },
  {
   "cell_type": "code",
   "execution_count": null,
   "metadata": {},
   "outputs": [],
   "source": []
  },
  {
   "cell_type": "code",
   "execution_count": 486,
   "metadata": {},
   "outputs": [
    {
     "data": {
      "text/plain": [
       "[Function]"
      ]
     },
     "execution_count": 486,
     "metadata": {},
     "output_type": "execute_result"
    }
   ],
   "source": [
    "G.sequenceOf = function(generators, options) {\n",
    "    return {\n",
    "        run: () => {\n",
    "            let results = [];\n",
    "            let delimiter = ' ';\n",
    "            let context = { name: 'SEQUENCE-OF-CONTEXT'};\n",
    "            if (options) {\n",
    "                if (options.delimiter !== undefined) {\n",
    "                     delimiter = options.delimiter\n",
    "                }\n",
    "            }\n",
    "            generators.forEach(generator => {\n",
    "                let text = generator.run(context);\n",
    "                if (text) {\n",
    "                    results.push(text);\n",
    "                }\n",
    "            });\n",
    "            return results.join(delimiter);\n",
    "        }\n",
    "    }\n",
    "}"
   ]
  },
  {
   "cell_type": "code",
   "execution_count": 487,
   "metadata": {},
   "outputs": [
    {
     "data": {
      "text/plain": [
       "{ run: [Function: run] }"
      ]
     },
     "execution_count": 487,
     "metadata": {},
     "output_type": "execute_result"
    }
   ],
   "source": [
    "testSequenceGen = G.sequenceOf([testGen, testGen], { delimiter: ' '})"
   ]
  },
  {
   "cell_type": "code",
   "execution_count": 488,
   "metadata": {},
   "outputs": [
    {
     "data": {
      "text/plain": [
       "{ run: [Function: run] }"
      ]
     },
     "execution_count": 488,
     "metadata": {},
     "output_type": "execute_result"
    }
   ],
   "source": [
    "testSequenceGen"
   ]
  },
  {
   "cell_type": "code",
   "execution_count": 489,
   "metadata": {},
   "outputs": [
    {
     "name": "stdout",
     "output_type": "stream",
     "text": [
      "str context: { name: 'SEQUENCE-OF-CONTEXT' }\n",
      "str context: { name: 'SEQUENCE-OF-CONTEXT' }\n"
     ]
    },
    {
     "data": {
      "text/plain": [
       "'hello hello'"
      ]
     },
     "execution_count": 489,
     "metadata": {},
     "output_type": "execute_result"
    }
   ],
   "source": [
    "testSequenceGen.run();"
   ]
  },
  {
   "cell_type": "code",
   "execution_count": 490,
   "metadata": {},
   "outputs": [
    {
     "data": {
      "text/plain": [
       "[Function]"
      ]
     },
     "execution_count": 490,
     "metadata": {},
     "output_type": "execute_result"
    }
   ],
   "source": [
    "G.shuffleArray = (array) => {\n",
    "    for (let i = array.length - 1; i > 0; i--) {\n",
    "        const j = Math.floor(Math.random() * (i + 1));\n",
    "        [array[i], array[j]] = [array[j], array[i]];\n",
    "    }\n",
    "}"
   ]
  },
  {
   "cell_type": "code",
   "execution_count": 491,
   "metadata": {},
   "outputs": [
    {
     "data": {
      "text/plain": [
       "[Function]"
      ]
     },
     "execution_count": 491,
     "metadata": {},
     "output_type": "execute_result"
    }
   ],
   "source": [
    "G.strings = (strings, options) => {\n",
    "    let cl = (strings) => {\n",
    "        let i = 0;\n",
    "        let length = strings.length;\n",
    "        let mode = options ? options.mode : '';\n",
    "        if (mode === 'shuffle') {\n",
    "            G.shuffleArray(strings);\n",
    "        }\n",
    "        return {\n",
    "            run: () => {\n",
    "                let result = strings[i++];\n",
    "                if (i >= length) {\n",
    "                    i = 0;\n",
    "                }\n",
    "                if (mode === 'random') {\n",
    "                    let randomIndex = Math.floor(Math.random() * length);\n",
    "                    result =  strings[randomIndex]\n",
    "                }\n",
    "                return result;\n",
    "            }\n",
    "        }\n",
    "    }\n",
    "    return cl(strings);\n",
    "}"
   ]
  },
  {
   "cell_type": "code",
   "execution_count": 492,
   "metadata": {},
   "outputs": [
    {
     "data": {
      "text/plain": [
       "{ run: [Function: run] }"
      ]
     },
     "execution_count": 492,
     "metadata": {},
     "output_type": "execute_result"
    }
   ],
   "source": [
    "worldGen = G.strings(['world', 'galaxy', 'universe'], { mode: 'shuffle' });"
   ]
  },
  {
   "cell_type": "code",
   "execution_count": 493,
   "metadata": {},
   "outputs": [
    {
     "name": "stdout",
     "output_type": "stream",
     "text": [
      "galaxy\n",
      "universe\n",
      "world\n",
      "galaxy\n",
      "universe\n",
      "world\n",
      "galaxy\n",
      "universe\n",
      "world\n",
      "galaxy\n"
     ]
    }
   ],
   "source": [
    "for (let i=0; i<10; i++) {\n",
    "    console.log(worldGen.run());\n",
    "}"
   ]
  },
  {
   "cell_type": "code",
   "execution_count": 494,
   "metadata": {},
   "outputs": [
    {
     "data": {
      "text/plain": [
       "{ run: [Function: run] }"
      ]
     },
     "execution_count": 494,
     "metadata": {},
     "output_type": "execute_result"
    }
   ],
   "source": [
    "helloSequenceGen = G.sequenceOf([testGen, worldGen])"
   ]
  },
  {
   "cell_type": "code",
   "execution_count": 495,
   "metadata": {},
   "outputs": [
    {
     "name": "stdout",
     "output_type": "stream",
     "text": [
      "str context: { name: 'SEQUENCE-OF-CONTEXT' }\n",
      "hello universe\n",
      "str context: { name: 'SEQUENCE-OF-CONTEXT' }\n",
      "hello world\n",
      "str context: { name: 'SEQUENCE-OF-CONTEXT' }\n",
      "hello galaxy\n",
      "str context: { name: 'SEQUENCE-OF-CONTEXT' }\n",
      "hello universe\n",
      "str context: { name: 'SEQUENCE-OF-CONTEXT' }\n",
      "hello world\n",
      "str context: { name: 'SEQUENCE-OF-CONTEXT' }\n",
      "hello galaxy\n",
      "str context: { name: 'SEQUENCE-OF-CONTEXT' }\n",
      "hello universe\n",
      "str context: { name: 'SEQUENCE-OF-CONTEXT' }\n",
      "hello world\n",
      "str context: { name: 'SEQUENCE-OF-CONTEXT' }\n",
      "hello galaxy\n",
      "str context: { name: 'SEQUENCE-OF-CONTEXT' }\n",
      "hello universe\n"
     ]
    }
   ],
   "source": [
    "for (let i=0; i<10; i++) {\n",
    "    console.log(helloSequenceGen.run());\n",
    "}"
   ]
  },
  {
   "cell_type": "code",
   "execution_count": 402,
   "metadata": {},
   "outputs": [
    {
     "data": {
      "text/plain": [
       "{ run: [Function: run] }"
      ]
     },
     "execution_count": 402,
     "metadata": {},
     "output_type": "execute_result"
    }
   ],
   "source": [
    "helloGen = G.strings(['hello', 'greetings', 'yo', 'wassup']);"
   ]
  },
  {
   "cell_type": "code",
   "execution_count": 403,
   "metadata": {},
   "outputs": [
    {
     "data": {
      "text/plain": [
       "{ run: [Function: run] }"
      ]
     },
     "execution_count": 403,
     "metadata": {},
     "output_type": "execute_result"
    }
   ],
   "source": [
    "helloSequenceGen = G.sequenceOf([helloGen, worldGen])"
   ]
  },
  {
   "cell_type": "code",
   "execution_count": 404,
   "metadata": {},
   "outputs": [
    {
     "name": "stdout",
     "output_type": "stream",
     "text": [
      "hello galaxy\n",
      "greetings world\n",
      "yo universe\n",
      "wassup galaxy\n",
      "hello world\n",
      "greetings universe\n",
      "yo galaxy\n",
      "wassup world\n",
      "hello universe\n",
      "greetings galaxy\n"
     ]
    }
   ],
   "source": [
    "for (let i=0; i<10; i++) {\n",
    "    console.log(helloSequenceGen.run());\n",
    "}"
   ]
  },
  {
   "cell_type": "code",
   "execution_count": 405,
   "metadata": {},
   "outputs": [
    {
     "data": {
      "text/plain": [
       "[Function]"
      ]
     },
     "execution_count": 405,
     "metadata": {},
     "output_type": "execute_result"
    }
   ],
   "source": [
    "G.optional = (generator, options) => {\n",
    "    let cl = (generator, options) => {\n",
    "        options = options || {};\n",
    "        let active = false;\n",
    "        return {\n",
    "            run: () => {\n",
    "                let result = '';\n",
    "                if (options.random) {\n",
    "                    let rnd = Math.random();\n",
    "                    if (rnd <= options.random) {\n",
    "                        result = generator.run();\n",
    "                    }\n",
    "                } else if (active) {\n",
    "                    result = generator.run();\n",
    "                }\n",
    "                active = !active;\n",
    "                return result;\n",
    "            }\n",
    "        }\n",
    "    }\n",
    "    return cl(generator, options);\n",
    "}"
   ]
  },
  {
   "cell_type": "code",
   "execution_count": 406,
   "metadata": {},
   "outputs": [
    {
     "data": {
      "text/plain": [
       "'yo'"
      ]
     },
     "execution_count": 406,
     "metadata": {},
     "output_type": "execute_result"
    }
   ],
   "source": [
    "helloGen.run()"
   ]
  },
  {
   "cell_type": "code",
   "execution_count": 407,
   "metadata": {},
   "outputs": [
    {
     "data": {
      "text/plain": [
       "{ run: [Function: run] }"
      ]
     },
     "execution_count": 407,
     "metadata": {},
     "output_type": "execute_result"
    }
   ],
   "source": [
    "optionalHello = G.optional(helloGen, { random: .3 });"
   ]
  },
  {
   "cell_type": "code",
   "execution_count": 415,
   "metadata": {},
   "outputs": [
    {
     "data": {
      "text/plain": [
       "'hello'"
      ]
     },
     "execution_count": 415,
     "metadata": {},
     "output_type": "execute_result"
    }
   ],
   "source": [
    "optionalHello.run();"
   ]
  },
  {
   "cell_type": "code",
   "execution_count": 412,
   "metadata": {},
   "outputs": [
    {
     "data": {
      "text/plain": [
       "{ run: [Function: run] }"
      ]
     },
     "execution_count": 412,
     "metadata": {},
     "output_type": "execute_result"
    }
   ],
   "source": [
    "peopleGen = G.strings([', friend', ', everyone', ', gang', ', my peeps']);"
   ]
  },
  {
   "cell_type": "code",
   "execution_count": 413,
   "metadata": {},
   "outputs": [
    {
     "data": {
      "text/plain": [
       "', friend'"
      ]
     },
     "execution_count": 413,
     "metadata": {},
     "output_type": "execute_result"
    }
   ],
   "source": [
    "peopleGen.run()"
   ]
  },
  {
   "cell_type": "code",
   "execution_count": 214,
   "metadata": {},
   "outputs": [
    {
     "data": {
      "text/plain": [
       "{ run: [Function: run] }"
      ]
     },
     "execution_count": 214,
     "metadata": {},
     "output_type": "execute_result"
    }
   ],
   "source": [
    "optionalHelloPeople = G.optional(peopleGen, { random: .3 });"
   ]
  },
  {
   "cell_type": "code",
   "execution_count": 215,
   "metadata": {},
   "outputs": [
    {
     "data": {
      "text/plain": [
       "', everyone'"
      ]
     },
     "execution_count": 215,
     "metadata": {},
     "output_type": "execute_result"
    }
   ],
   "source": [
    "optionalHelloPeople.run()"
   ]
  },
  {
   "cell_type": "code",
   "execution_count": 216,
   "metadata": {},
   "outputs": [
    {
     "name": "stdout",
     "output_type": "stream",
     "text": [
      "[ { run: [Function: run] },\n",
      "  { run: [Function: run] },\n",
      "  { run: [Function: run] } ]\n"
     ]
    },
    {
     "data": {
      "text/plain": [
       "{ run: [Function: run] }"
      ]
     },
     "execution_count": 216,
     "metadata": {},
     "output_type": "execute_result"
    }
   ],
   "source": [
    "helloPeopleSequenceGen = G.sequenceOf([helloGen, worldGen, optionalHelloPeople])"
   ]
  },
  {
   "cell_type": "code",
   "execution_count": 424,
   "metadata": {},
   "outputs": [
    {
     "data": {
      "text/plain": [
       "'wassup universe , friend'"
      ]
     },
     "execution_count": 424,
     "metadata": {},
     "output_type": "execute_result"
    }
   ],
   "source": [
    "helloPeopleSequenceGen.run()"
   ]
  },
  {
   "cell_type": "code",
   "execution_count": null,
   "metadata": {},
   "outputs": [],
   "source": []
  },
  {
   "cell_type": "markdown",
   "metadata": {},
   "source": [
    "### gramar example\n",
    "```\n",
    "V_RECORDING = (\n",
    "\t[record?(s|(ing))]|([watch?(ing)] and [listen?(ing)])|([listen?(ing)] and [watch?(ing)])|\n",
    "\t([see?(ing)] and [hear?(ing)])|([hear?(ing)] and [see?(ing)])|\n",
    "\t([hav(e|(ing))]|[stor(e|(ing))] ?a record ?of everything|what ?((we say)|(you hear)))\n",
    ");\n",
    "```"
   ]
  },
  {
   "cell_type": "markdown",
   "metadata": {},
   "source": [
    "#### example\n",
    "```\n",
    "[record?(s|(ing))]\n",
    "```"
   ]
  },
  {
   "cell_type": "code",
   "execution_count": 224,
   "metadata": {},
   "outputs": [
    {
     "data": {
      "text/plain": [
       "{ run: [Function: run] }"
      ]
     },
     "execution_count": 224,
     "metadata": {},
     "output_type": "execute_result"
    }
   ],
   "source": [
    "endings = G.strings(['s', 'ing']);"
   ]
  },
  {
   "cell_type": "code",
   "execution_count": 426,
   "metadata": {},
   "outputs": [
    {
     "data": {
      "text/plain": [
       "'s'"
      ]
     },
     "execution_count": 426,
     "metadata": {},
     "output_type": "execute_result"
    }
   ],
   "source": [
    "endings.run()"
   ]
  },
  {
   "cell_type": "code",
   "execution_count": 226,
   "metadata": {},
   "outputs": [
    {
     "data": {
      "text/plain": [
       "{ run: [Function: run] }"
      ]
     },
     "execution_count": 226,
     "metadata": {},
     "output_type": "execute_result"
    }
   ],
   "source": [
    "optionalEndings = G.optional(endings);"
   ]
  },
  {
   "cell_type": "code",
   "execution_count": 241,
   "metadata": {},
   "outputs": [
    {
     "data": {
      "text/plain": [
       "{ run: [Function: run] }"
      ]
     },
     "execution_count": 241,
     "metadata": {},
     "output_type": "execute_result"
    }
   ],
   "source": [
    "recordString = G.str('record')"
   ]
  },
  {
   "cell_type": "code",
   "execution_count": 427,
   "metadata": {},
   "outputs": [
    {
     "data": {
      "text/plain": [
       "{ run: [Function: run] }"
      ]
     },
     "execution_count": 427,
     "metadata": {},
     "output_type": "execute_result"
    }
   ],
   "source": [
    "recordingGen = G.sequenceOf([recordString, optionalEndings], { delimiter: ''})"
   ]
  },
  {
   "cell_type": "code",
   "execution_count": 428,
   "metadata": {},
   "outputs": [
    {
     "name": "stdout",
     "output_type": "stream",
     "text": [
      "recording\n",
      "record\n",
      "records\n",
      "record\n",
      "recording\n",
      "record\n",
      "records\n",
      "record\n",
      "recording\n",
      "record\n"
     ]
    }
   ],
   "source": [
    "for (let i=0; i<10; i++) {\n",
    "    console.log(recordingGen.run());\n",
    "}"
   ]
  },
  {
   "cell_type": "markdown",
   "metadata": {},
   "source": [
    "#### example\n",
    "```\n",
    "?a record ?of everything|what ?((we say)|(you hear)))\n",
    "```"
   ]
  },
  {
   "cell_type": "code",
   "execution_count": 429,
   "metadata": {},
   "outputs": [
    {
     "data": {
      "text/plain": [
       "{ run: [Function: run] }"
      ]
     },
     "execution_count": 429,
     "metadata": {},
     "output_type": "execute_result"
    }
   ],
   "source": [
    "phraseGen = G.sequenceOf([\n",
    "    G.optional(G.str('a')),\n",
    "    G.str('record'),\n",
    "    G.sequenceOf([\n",
    "    G.optional(G.str('of')),\n",
    "        G.strings(['everything', 'what'], { mode: 'random' }),\n",
    "    ]),\n",
    "    G.optional(G.strings(['we say', 'you hear'], { mode: 'random' }), { random: .75 })\n",
    "])"
   ]
  },
  {
   "cell_type": "code",
   "execution_count": 430,
   "metadata": {},
   "outputs": [
    {
     "name": "stdout",
     "output_type": "stream",
     "text": [
      "record everything you hear\n",
      "a record of what you hear\n",
      "record everything we say\n",
      "a record of what\n",
      "record everything\n",
      "a record of everything we say\n",
      "record everything you hear\n",
      "a record of everything you hear\n",
      "record everything\n",
      "a record of what you hear\n",
      "record everything you hear\n",
      "a record of everything\n",
      "record what you hear\n",
      "a record of everything you hear\n",
      "record what we say\n",
      "a record of everything you hear\n",
      "record everything you hear\n",
      "a record of what you hear\n",
      "record what we say\n",
      "a record of what you hear\n"
     ]
    }
   ],
   "source": [
    "for (let i=0; i<20; i++) {\n",
    "    console.log(phraseGen.run());\n",
    "}"
   ]
  },
  {
   "cell_type": "code",
   "execution_count": null,
   "metadata": {},
   "outputs": [],
   "source": []
  },
  {
   "cell_type": "code",
   "execution_count": 352,
   "metadata": {},
   "outputs": [
    {
     "data": {
      "text/plain": [
       "[Function]"
      ]
     },
     "execution_count": 352,
     "metadata": {},
     "output_type": "execute_result"
    }
   ],
   "source": [
    "G.unique = function(generator, count, options) {\n",
    "    count = count || 10;\n",
    "    //return {\n",
    "        //run: () => {\n",
    "            let resultsDictionary = {};\n",
    "            let maxAttempts = 10;\n",
    "            if (options) {\n",
    "                if (options.attempts !== undefined) {\n",
    "                     maxAttempts = options.attempts\n",
    "                }\n",
    "            }\n",
    "            let attemptCount = 0;\n",
    "            let done = false;\n",
    "            while (attemptCount < maxAttempts && !done) {\n",
    "                let text = generator.run();\n",
    "                if (!resultsDictionary[text]) {\n",
    "                    resultsDictionary[text] = text;\n",
    "                    attemptCount = 0;\n",
    "                } else {\n",
    "                    attemptCount++;\n",
    "                }\n",
    "                \n",
    "                let keys = Object.keys(resultsDictionary);\n",
    "                if (keys.length == count) {\n",
    "                    done = true;\n",
    "                }\n",
    "            }\n",
    "\n",
    "            let keys = Object.keys(resultsDictionary).sort()\n",
    "            return {\n",
    "                found: keys.length,\n",
    "                phrases: keys,\n",
    "                attempts: attemptCount,\n",
    "            }\n",
    "        //}\n",
    "    //}\n",
    "}"
   ]
  },
  {
   "cell_type": "code",
   "execution_count": 353,
   "metadata": {},
   "outputs": [
    {
     "data": {
      "text/plain": [
       "{ found: 1, phrases: [ 'hello' ], attempts: 10 }"
      ]
     },
     "execution_count": 353,
     "metadata": {},
     "output_type": "execute_result"
    }
   ],
   "source": [
    "G.unique(G.str('hello'))"
   ]
  },
  {
   "cell_type": "code",
   "execution_count": 354,
   "metadata": {},
   "outputs": [
    {
     "data": {
      "text/plain": [
       "{ found: 2, phrases: [ 'greetings', 'hello' ], attempts: 10 }"
      ]
     },
     "execution_count": 354,
     "metadata": {},
     "output_type": "execute_result"
    }
   ],
   "source": [
    "G.unique(G.strings(['hello', 'greetings']))"
   ]
  },
  {
   "cell_type": "code",
   "execution_count": 431,
   "metadata": {},
   "outputs": [
    {
     "data": {
      "text/plain": [
       "{ found: 12,\n",
       "  phrases:\n",
       "   [ 'a record of everything',\n",
       "     'a record of everything we say',\n",
       "     'a record of everything you hear',\n",
       "     'a record of what',\n",
       "     'a record of what we say',\n",
       "     'a record of what you hear',\n",
       "     'record everything',\n",
       "     'record everything we say',\n",
       "     'record everything you hear',\n",
       "     'record what',\n",
       "     'record what we say',\n",
       "     'record what you hear' ],\n",
       "  attempts: 100 }"
      ]
     },
     "execution_count": 431,
     "metadata": {},
     "output_type": "execute_result"
    }
   ],
   "source": [
    "G.unique(phraseGen, 20, { attempts: 100 })"
   ]
  },
  {
   "cell_type": "code",
   "execution_count": null,
   "metadata": {},
   "outputs": [],
   "source": []
  },
  {
   "cell_type": "markdown",
   "metadata": {},
   "source": [
    "### rule example\n",
    "```\n",
    "TopRule = $* (\n",
    "    $food {book='food'} {item = food._item}\n",
    ") $*;\n",
    "\n",
    "\n",
    "reserve = reserve | order | book | make;\n",
    "\n",
    "food = $reserve $* $sandwich {_item = sandwich._type};\n",
    "sandwich = ([sandwich?(es)] | ([sub?s] [thing?(s|y|(ies))]) | panini) {_type = 'sandwich'};\n",
    "```"
   ]
  },
  {
   "cell_type": "markdown",
   "metadata": {},
   "source": [
    "```\n",
    "([sub?s] [thing?(s|y|(ies))])\n",
    "```"
   ]
  },
  {
   "cell_type": "code",
   "execution_count": 376,
   "metadata": {},
   "outputs": [
    {
     "data": {
      "text/plain": [
       "{ run: [Function: run] }"
      ]
     },
     "execution_count": 376,
     "metadata": {},
     "output_type": "execute_result"
    }
   ],
   "source": [
    "subGen = G.sequenceOf([\n",
    "    G.strings(['reserve', 'order', 'book', 'make']),\n",
    "    G.str('me a'),\n",
    "    G.sequenceOf([\n",
    "        G.str('sub'),\n",
    "        G.optional(G.str('s'), { random: 0.3 })\n",
    "    ], { delimiter: ''}),\n",
    "     G.sequenceOf([\n",
    "        G.str('thing'),\n",
    "        G.optional(G.strings(['y','s','ies']))\n",
    "    ], { delimiter: ''}),\n",
    "])"
   ]
  },
  {
   "cell_type": "code",
   "execution_count": 377,
   "metadata": {},
   "outputs": [
    {
     "name": "stdout",
     "output_type": "stream",
     "text": [
      "reserve me a subs thing\n",
      "order me a subs thingy\n",
      "book me a sub thing\n",
      "make me a subs things\n",
      "reserve me a sub thing\n",
      "order me a sub thingies\n",
      "book me a sub thing\n",
      "make me a subs thingy\n",
      "reserve me a sub thing\n",
      "order me a subs things\n"
     ]
    }
   ],
   "source": [
    "for (let i=0; i<10; i++) {\n",
    "    console.log(subGen.run());\n",
    "}"
   ]
  },
  {
   "cell_type": "code",
   "execution_count": 381,
   "metadata": {},
   "outputs": [
    {
     "data": {
      "text/plain": [
       "{ found: 15,\n",
       "  phrases:\n",
       "   [ 'book me a sub thing',\n",
       "     'book me a subs thing',\n",
       "     'make me a sub thingies',\n",
       "     'make me a sub things',\n",
       "     'make me a sub thingy',\n",
       "     'make me a subs things',\n",
       "     'make me a subs thingy',\n",
       "     'order me a sub thingies',\n",
       "     'order me a sub things',\n",
       "     'order me a sub thingy',\n",
       "     'order me a subs thingies',\n",
       "     'order me a subs things',\n",
       "     'order me a subs thingy',\n",
       "     'reserve me a sub thing',\n",
       "     'reserve me a subs thing' ],\n",
       "  attempts: 10 }"
      ]
     },
     "execution_count": 381,
     "metadata": {},
     "output_type": "execute_result"
    }
   ],
   "source": [
    "G.unique(subGen, 20, 100)"
   ]
  },
  {
   "cell_type": "code",
   "execution_count": null,
   "metadata": {},
   "outputs": [],
   "source": []
  },
  {
   "cell_type": "code",
   "execution_count": null,
   "metadata": {},
   "outputs": [],
   "source": []
  }
 ],
 "metadata": {
  "kernelspec": {
   "display_name": "Javascript (Node.js)",
   "language": "javascript",
   "name": "javascript"
  },
  "language_info": {
   "file_extension": ".js",
   "mimetype": "application/javascript",
   "name": "javascript",
   "version": "10.21.0"
  }
 },
 "nbformat": 4,
 "nbformat_minor": 4
}
